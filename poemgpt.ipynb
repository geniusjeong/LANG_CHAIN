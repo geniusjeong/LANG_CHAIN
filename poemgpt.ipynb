{
 "cells": [
  {
   "cell_type": "code",
   "execution_count": 3,
   "metadata": {},
   "outputs": [],
   "source": [
    "from langchain.chat_models import ChatOpenAI\n",
    "from langchain.prompts import ChatPromptTemplate\n",
    "from langchain.callbacks import StreamingStdOutCallbackHandler\n",
    "\n",
    "chat = ChatOpenAI(temperature=0.1, streaming=True, callbacks=[StreamingStdOutCallbackHandler(),])\n",
    "\n",
    "poem_prompt = ChatPromptTemplate.from_messages(\n",
    "    [\n",
    "        (\"system\", \"You are a famous poet. You create poem about programming language.\"),\n",
    "        (\"human\", \"{programming_language}\"),\n",
    "    ]\n",
    ")\n",
    "\n",
    "poem_chain = poem_prompt | chat"
   ]
  },
  {
   "cell_type": "code",
   "execution_count": 4,
   "metadata": {},
   "outputs": [
    {
     "name": "stdout",
     "output_type": "stream",
     "text": [
      "In the realm of code, where logic reigns,\n",
      "There dwells a language that never wanes.\n",
      "Python, the serpent of the programming world,\n",
      "With elegance and simplicity, its flag unfurled.\n",
      "\n",
      "Its syntax so clean, like a river's flow,\n",
      "Guiding the programmer where they wish to go.\n",
      "Indentation is key, in Python's domain,\n",
      "A structure so clear, like a well-kept lane.\n",
      "\n",
      "From data manipulation to web design,\n",
      "Python's versatility continues to shine.\n",
      "With libraries galore, for every need,\n",
      "It's no wonder Python takes the lead.\n",
      "\n",
      "So let us raise our keyboards high,\n",
      "And sing the praises of Python's sky.\n",
      "For in the world of code, it stands tall,\n",
      "A language beloved by one and all.This poem celebrates the programming language Python, portraying it as a powerful and elegant tool in the realm of coding. The poet highlights Python's clean syntax, versatility, and ease of use, likening it to a serpent unfurling its flag in the programming world. The poem emphasizes Python's ability to guide programmers with clarity and precision, making it a popular choice for various applications from data manipulation to web design. The poet encourages readers to appreciate Python's strengths and praises its widespread popularity and appeal among programmers. The overall tone of the poem is reverent and celebratory, portraying Python as a beloved language that stands out in the world of coding."
     ]
    },
    {
     "data": {
      "text/plain": [
       "AIMessageChunk(content=\"This poem celebrates the programming language Python, portraying it as a powerful and elegant tool in the realm of coding. The poet highlights Python's clean syntax, versatility, and ease of use, likening it to a serpent unfurling its flag in the programming world. The poem emphasizes Python's ability to guide programmers with clarity and precision, making it a popular choice for various applications from data manipulation to web design. The poet encourages readers to appreciate Python's strengths and praises its widespread popularity and appeal among programmers. The overall tone of the poem is reverent and celebratory, portraying Python as a beloved language that stands out in the world of coding.\")"
      ]
     },
     "execution_count": 4,
     "metadata": {},
     "output_type": "execute_result"
    }
   ],
   "source": [
    "p_explain_prompt = ChatPromptTemplate.from_messages(\n",
    "    [\n",
    "        (\"system\", \"You are a poem analyst.\"),\n",
    "        (\"human\", \"{poem}\")\n",
    "    ]\n",
    ")\n",
    "\n",
    "p_explain_chain = p_explain_prompt | chat\n",
    "\n",
    "final_chain = {\"poem\":poem_chain} | p_explain_chain \n",
    "\n",
    "final_chain.invoke(\n",
    "    {\n",
    "        \"programming_language\":\"python\"\n",
    "    }\n",
    ")"
   ]
  }
 ],
 "metadata": {
  "kernelspec": {
   "display_name": "env",
   "language": "python",
   "name": "python3"
  },
  "language_info": {
   "codemirror_mode": {
    "name": "ipython",
    "version": 3
   },
   "file_extension": ".py",
   "mimetype": "text/x-python",
   "name": "python",
   "nbconvert_exporter": "python",
   "pygments_lexer": "ipython3",
   "version": "3.9.6"
  }
 },
 "nbformat": 4,
 "nbformat_minor": 2
}
