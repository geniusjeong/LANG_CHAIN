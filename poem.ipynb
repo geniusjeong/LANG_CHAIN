{
 "cells": [
  {
   "cell_type": "code",
   "execution_count": 7,
   "metadata": {},
   "outputs": [],
   "source": [
    "from langchain.chat_models import ChatOpenAI\n",
    "from langchain.prompts import ChatPromptTemplate\n",
    "from langchain.callbacks import StreamingStdOutCallbackHandler\n",
    "\n",
    "chat = ChatOpenAI(temperature=0.1, streaming=True, callbacks=[StreamingStdOutCallbackHandler(),])\n",
    "\n",
    "poem_prompt = ChatPromptTemplate.from_messages(\n",
    "    [\n",
    "        (\"system\", \"You are a famous poet. You create poem about programming language.\"),\n",
    "        (\"human\", \"{programming_language}\"),\n",
    "    ]\n",
    ")\n",
    "\n",
    "poem_chain = poem_prompt | chat\n"
   ]
  },
  {
   "cell_type": "code",
   "execution_count": 8,
   "metadata": {},
   "outputs": [
    {
     "name": "stdout",
     "output_type": "stream",
     "text": [
      "In the realm of code and syntax, where logic reigns supreme,\n",
      "There lies a language powerful, a programmer's dream.\n",
      "Its name is C++, a force to be reckoned with,\n",
      "A tool for crafting software, a language that's so swift.\n",
      "\n",
      "With its classes and inheritance, it offers great control,\n",
      "Polymorphism and templates, to shape the code's soul.\n",
      "From algorithms to data structures, it can handle it all,\n",
      "A versatile language, standing proud and tall.\n",
      "\n",
      "But beware, for with great power comes great responsibility,\n",
      "Memory leaks and bugs can cause great hostility.\n",
      "So wield C++ with care, with precision and grace,\n",
      "And you'll create wonders in this digital space.\n",
      "\n",
      "So here's to C++, a language so grand,\n",
      "A masterpiece of programming, created by human hand.\n",
      "May it continue to evolve, to grow and to thrive,\n",
      "And help us build a future where technology can thrive.This poem celebrates the programming language C++ and its capabilities in the realm of software development. It highlights the power and versatility of C++, emphasizing its features such as classes, inheritance, polymorphism, and templates that allow programmers to create efficient and complex code.\n",
      "\n",
      "The poem also acknowledges the potential challenges that come with using C++, such as memory leaks and bugs, reminding programmers to handle the language with care and precision. Despite these challenges, the poem encourages readers to appreciate C++ as a valuable tool for creating innovative software solutions.\n",
      "\n",
      "Overall, the poem reflects admiration for C++ as a sophisticated and evolving language that plays a significant role in shaping the future of technology."
     ]
    },
    {
     "data": {
      "text/plain": [
       "AIMessageChunk(content='This poem celebrates the programming language C++ and its capabilities in the realm of software development. It highlights the power and versatility of C++, emphasizing its features such as classes, inheritance, polymorphism, and templates that allow programmers to create efficient and complex code.\\n\\nThe poem also acknowledges the potential challenges that come with using C++, such as memory leaks and bugs, reminding programmers to handle the language with care and precision. Despite these challenges, the poem encourages readers to appreciate C++ as a valuable tool for creating innovative software solutions.\\n\\nOverall, the poem reflects admiration for C++ as a sophisticated and evolving language that plays a significant role in shaping the future of technology.')"
      ]
     },
     "execution_count": 8,
     "metadata": {},
     "output_type": "execute_result"
    }
   ],
   "source": [
    "p_explain_prompt = ChatPromptTemplate.from_messages(\n",
    "    [\n",
    "        (\"system\", \"You are a poem analyst.\"),\n",
    "        (\"human\", \"{poem}\")\n",
    "    ]\n",
    ")\n",
    "\n",
    "p_explain_chain = p_explain_prompt | chat\n",
    "\n",
    "final_chain = {\"poem\":poem_chain} | p_explain_chain \n",
    "\n",
    "final_chain.invoke(\n",
    "    {\n",
    "        \"programming_language\":\"python\"\n",
    "    }\n",
    ")"
   ]
  }
 ],
 "metadata": {
  "kernelspec": {
   "display_name": "env",
   "language": "python",
   "name": "python3"
  },
  "language_info": {
   "codemirror_mode": {
    "name": "ipython",
    "version": 3
   },
   "file_extension": ".py",
   "mimetype": "text/x-python",
   "name": "python",
   "nbconvert_exporter": "python",
   "pygments_lexer": "ipython3",
   "version": "3.9.6"
  }
 },
 "nbformat": 4,
 "nbformat_minor": 2
}
